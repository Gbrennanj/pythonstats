{
 "cells": [
  {
   "cell_type": "markdown",
   "id": "c742c4e4-e430-42e6-bd5d-6532b4b620e3",
   "metadata": {},
   "source": [
    "# Insertion of required python modules"
   ]
  },
  {
   "cell_type": "code",
   "execution_count": 1,
   "id": "dd64e9d0-b2e1-4827-a953-bfa688e3e23c",
   "metadata": {},
   "outputs": [],
   "source": [
    "import pandas as pd\n",
    "import numpy as np\n",
    "from scipy import stats\n",
    "from statsmodels.formula.api import ols\n",
    "import matplotlib.pyplot as plt\n",
    "from statsmodels.formula.api import ols"
   ]
  },
  {
   "cell_type": "code",
   "execution_count": 2,
   "id": "66ea7871-dba8-4a7f-ab2f-2a11b3e532df",
   "metadata": {},
   "outputs": [],
   "source": [
    "data = pd.read_csv('brain_size.csv', sep=';', na_values=\".\")"
   ]
  },
  {
   "cell_type": "code",
   "execution_count": 3,
   "id": "04f9a262-1c35-43bf-8818-d653b46a7c37",
   "metadata": {},
   "outputs": [
    {
     "data": {
      "text/html": [
       "<div>\n",
       "<style scoped>\n",
       "    .dataframe tbody tr th:only-of-type {\n",
       "        vertical-align: middle;\n",
       "    }\n",
       "\n",
       "    .dataframe tbody tr th {\n",
       "        vertical-align: top;\n",
       "    }\n",
       "\n",
       "    .dataframe thead th {\n",
       "        text-align: right;\n",
       "    }\n",
       "</style>\n",
       "<table border=\"1\" class=\"dataframe\">\n",
       "  <thead>\n",
       "    <tr style=\"text-align: right;\">\n",
       "      <th></th>\n",
       "      <th>Unnamed: 0</th>\n",
       "      <th>Gender</th>\n",
       "      <th>FSIQ</th>\n",
       "      <th>VIQ</th>\n",
       "      <th>PIQ</th>\n",
       "      <th>Weight</th>\n",
       "      <th>Height</th>\n",
       "      <th>MRI_Count</th>\n",
       "    </tr>\n",
       "  </thead>\n",
       "  <tbody>\n",
       "    <tr>\n",
       "      <th>0</th>\n",
       "      <td>1</td>\n",
       "      <td>Female</td>\n",
       "      <td>133</td>\n",
       "      <td>132</td>\n",
       "      <td>124</td>\n",
       "      <td>118</td>\n",
       "      <td>64.5</td>\n",
       "      <td>816932</td>\n",
       "    </tr>\n",
       "    <tr>\n",
       "      <th>1</th>\n",
       "      <td>2</td>\n",
       "      <td>Male</td>\n",
       "      <td>140</td>\n",
       "      <td>150</td>\n",
       "      <td>124</td>\n",
       "      <td>135</td>\n",
       "      <td>72.5</td>\n",
       "      <td>1001121</td>\n",
       "    </tr>\n",
       "    <tr>\n",
       "      <th>2</th>\n",
       "      <td>3</td>\n",
       "      <td>Male</td>\n",
       "      <td>139</td>\n",
       "      <td>123</td>\n",
       "      <td>150</td>\n",
       "      <td>143</td>\n",
       "      <td>73.3</td>\n",
       "      <td>1038437</td>\n",
       "    </tr>\n",
       "    <tr>\n",
       "      <th>3</th>\n",
       "      <td>4</td>\n",
       "      <td>Male</td>\n",
       "      <td>133</td>\n",
       "      <td>129</td>\n",
       "      <td>128</td>\n",
       "      <td>172</td>\n",
       "      <td>68.8</td>\n",
       "      <td>965353</td>\n",
       "    </tr>\n",
       "    <tr>\n",
       "      <th>4</th>\n",
       "      <td>5</td>\n",
       "      <td>Female</td>\n",
       "      <td>137</td>\n",
       "      <td>132</td>\n",
       "      <td>134</td>\n",
       "      <td>147</td>\n",
       "      <td>65.0</td>\n",
       "      <td>951545</td>\n",
       "    </tr>\n",
       "  </tbody>\n",
       "</table>\n",
       "</div>"
      ],
      "text/plain": [
       "   Unnamed: 0  Gender  FSIQ  VIQ  PIQ  Weight  Height  MRI_Count\n",
       "0           1  Female   133  132  124     118    64.5     816932\n",
       "1           2    Male   140  150  124     135    72.5    1001121\n",
       "2           3    Male   139  123  150     143    73.3    1038437\n",
       "3           4    Male   133  129  128     172    68.8     965353\n",
       "4           5  Female   137  132  134     147    65.0     951545"
      ]
     },
     "execution_count": 3,
     "metadata": {},
     "output_type": "execute_result"
    }
   ],
   "source": [
    "data.head()"
   ]
  },
  {
   "cell_type": "code",
   "execution_count": 4,
   "id": "d141e53c-c6a4-426c-aa0d-6dc24de1ba5f",
   "metadata": {},
   "outputs": [],
   "source": [
    "t = np.linspace(-6, 6, 20)"
   ]
  },
  {
   "cell_type": "code",
   "execution_count": 5,
   "id": "5b82d2eb-a957-41a6-8776-c40b611bb045",
   "metadata": {},
   "outputs": [],
   "source": [
    "sin_t = np.sin(t)\n",
    "cos_t = np.cos(t)"
   ]
  },
  {
   "cell_type": "code",
   "execution_count": 6,
   "id": "800b7352-45cc-4f7d-83a0-0e207bee3f5e",
   "metadata": {},
   "outputs": [
    {
     "data": {
      "text/html": [
       "<div>\n",
       "<style scoped>\n",
       "    .dataframe tbody tr th:only-of-type {\n",
       "        vertical-align: middle;\n",
       "    }\n",
       "\n",
       "    .dataframe tbody tr th {\n",
       "        vertical-align: top;\n",
       "    }\n",
       "\n",
       "    .dataframe thead th {\n",
       "        text-align: right;\n",
       "    }\n",
       "</style>\n",
       "<table border=\"1\" class=\"dataframe\">\n",
       "  <thead>\n",
       "    <tr style=\"text-align: right;\">\n",
       "      <th></th>\n",
       "      <th>t</th>\n",
       "      <th>sin</th>\n",
       "      <th>cos</th>\n",
       "    </tr>\n",
       "  </thead>\n",
       "  <tbody>\n",
       "    <tr>\n",
       "      <th>0</th>\n",
       "      <td>-6.000000</td>\n",
       "      <td>0.279415</td>\n",
       "      <td>0.960170</td>\n",
       "    </tr>\n",
       "    <tr>\n",
       "      <th>1</th>\n",
       "      <td>-5.368421</td>\n",
       "      <td>0.792419</td>\n",
       "      <td>0.609977</td>\n",
       "    </tr>\n",
       "    <tr>\n",
       "      <th>2</th>\n",
       "      <td>-4.736842</td>\n",
       "      <td>0.999701</td>\n",
       "      <td>0.024451</td>\n",
       "    </tr>\n",
       "    <tr>\n",
       "      <th>3</th>\n",
       "      <td>-4.105263</td>\n",
       "      <td>0.821291</td>\n",
       "      <td>-0.570509</td>\n",
       "    </tr>\n",
       "    <tr>\n",
       "      <th>4</th>\n",
       "      <td>-3.473684</td>\n",
       "      <td>0.326021</td>\n",
       "      <td>-0.945363</td>\n",
       "    </tr>\n",
       "    <tr>\n",
       "      <th>5</th>\n",
       "      <td>-2.842105</td>\n",
       "      <td>-0.295030</td>\n",
       "      <td>-0.955488</td>\n",
       "    </tr>\n",
       "    <tr>\n",
       "      <th>6</th>\n",
       "      <td>-2.210526</td>\n",
       "      <td>-0.802257</td>\n",
       "      <td>-0.596979</td>\n",
       "    </tr>\n",
       "    <tr>\n",
       "      <th>7</th>\n",
       "      <td>-1.578947</td>\n",
       "      <td>-0.999967</td>\n",
       "      <td>-0.008151</td>\n",
       "    </tr>\n",
       "    <tr>\n",
       "      <th>8</th>\n",
       "      <td>-0.947368</td>\n",
       "      <td>-0.811882</td>\n",
       "      <td>0.583822</td>\n",
       "    </tr>\n",
       "    <tr>\n",
       "      <th>9</th>\n",
       "      <td>-0.315789</td>\n",
       "      <td>-0.310567</td>\n",
       "      <td>0.950551</td>\n",
       "    </tr>\n",
       "    <tr>\n",
       "      <th>10</th>\n",
       "      <td>0.315789</td>\n",
       "      <td>0.310567</td>\n",
       "      <td>0.950551</td>\n",
       "    </tr>\n",
       "    <tr>\n",
       "      <th>11</th>\n",
       "      <td>0.947368</td>\n",
       "      <td>0.811882</td>\n",
       "      <td>0.583822</td>\n",
       "    </tr>\n",
       "    <tr>\n",
       "      <th>12</th>\n",
       "      <td>1.578947</td>\n",
       "      <td>0.999967</td>\n",
       "      <td>-0.008151</td>\n",
       "    </tr>\n",
       "    <tr>\n",
       "      <th>13</th>\n",
       "      <td>2.210526</td>\n",
       "      <td>0.802257</td>\n",
       "      <td>-0.596979</td>\n",
       "    </tr>\n",
       "    <tr>\n",
       "      <th>14</th>\n",
       "      <td>2.842105</td>\n",
       "      <td>0.295030</td>\n",
       "      <td>-0.955488</td>\n",
       "    </tr>\n",
       "    <tr>\n",
       "      <th>15</th>\n",
       "      <td>3.473684</td>\n",
       "      <td>-0.326021</td>\n",
       "      <td>-0.945363</td>\n",
       "    </tr>\n",
       "    <tr>\n",
       "      <th>16</th>\n",
       "      <td>4.105263</td>\n",
       "      <td>-0.821291</td>\n",
       "      <td>-0.570509</td>\n",
       "    </tr>\n",
       "    <tr>\n",
       "      <th>17</th>\n",
       "      <td>4.736842</td>\n",
       "      <td>-0.999701</td>\n",
       "      <td>0.024451</td>\n",
       "    </tr>\n",
       "    <tr>\n",
       "      <th>18</th>\n",
       "      <td>5.368421</td>\n",
       "      <td>-0.792419</td>\n",
       "      <td>0.609977</td>\n",
       "    </tr>\n",
       "    <tr>\n",
       "      <th>19</th>\n",
       "      <td>6.000000</td>\n",
       "      <td>-0.279415</td>\n",
       "      <td>0.960170</td>\n",
       "    </tr>\n",
       "  </tbody>\n",
       "</table>\n",
       "</div>"
      ],
      "text/plain": [
       "           t       sin       cos\n",
       "0  -6.000000  0.279415  0.960170\n",
       "1  -5.368421  0.792419  0.609977\n",
       "2  -4.736842  0.999701  0.024451\n",
       "3  -4.105263  0.821291 -0.570509\n",
       "4  -3.473684  0.326021 -0.945363\n",
       "5  -2.842105 -0.295030 -0.955488\n",
       "6  -2.210526 -0.802257 -0.596979\n",
       "7  -1.578947 -0.999967 -0.008151\n",
       "8  -0.947368 -0.811882  0.583822\n",
       "9  -0.315789 -0.310567  0.950551\n",
       "10  0.315789  0.310567  0.950551\n",
       "11  0.947368  0.811882  0.583822\n",
       "12  1.578947  0.999967 -0.008151\n",
       "13  2.210526  0.802257 -0.596979\n",
       "14  2.842105  0.295030 -0.955488\n",
       "15  3.473684 -0.326021 -0.945363\n",
       "16  4.105263 -0.821291 -0.570509\n",
       "17  4.736842 -0.999701  0.024451\n",
       "18  5.368421 -0.792419  0.609977\n",
       "19  6.000000 -0.279415  0.960170"
      ]
     },
     "execution_count": 6,
     "metadata": {},
     "output_type": "execute_result"
    }
   ],
   "source": [
    "pd.DataFrame({'t': t, 'sin': sin_t, 'cos': cos_t})"
   ]
  },
  {
   "cell_type": "markdown",
   "id": "83a42aab-f3f5-491d-a41e-35f1c133ab3f",
   "metadata": {},
   "source": [
    "## lists number of rows, columns"
   ]
  },
  {
   "cell_type": "code",
   "execution_count": 7,
   "id": "8e0b3f8a-2f9f-4a9a-bc72-e49ae327f43e",
   "metadata": {},
   "outputs": [
    {
     "data": {
      "text/plain": [
       "(40, 8)"
      ]
     },
     "execution_count": 7,
     "metadata": {},
     "output_type": "execute_result"
    }
   ],
   "source": [
    "data.shape "
   ]
  },
  {
   "cell_type": "markdown",
   "id": "a2abf10e-5b95-45b0-b7ef-e856500b47a2",
   "metadata": {},
   "source": [
    "**lists names of columns and prints values of selected columns** "
   ]
  },
  {
   "cell_type": "code",
   "execution_count": 8,
   "id": "3d435c27-7530-4ea9-8844-f39af7d62d13",
   "metadata": {},
   "outputs": [
    {
     "data": {
      "text/plain": [
       "Index(['Unnamed: 0', 'Gender', 'FSIQ', 'VIQ', 'PIQ', 'Weight', 'Height',\n",
       "       'MRI_Count'],\n",
       "      dtype='object')"
      ]
     },
     "execution_count": 8,
     "metadata": {},
     "output_type": "execute_result"
    }
   ],
   "source": [
    "data.columns"
   ]
  },
  {
   "cell_type": "code",
   "execution_count": 9,
   "id": "d2305968-144f-4541-bd1b-47f821971950",
   "metadata": {},
   "outputs": [
    {
     "name": "stdout",
     "output_type": "stream",
     "text": [
      "0     Female\n",
      "1       Male\n",
      "2       Male\n",
      "3       Male\n",
      "4     Female\n",
      "5     Female\n",
      "6     Female\n",
      "7     Female\n",
      "8       Male\n",
      "9       Male\n",
      "10    Female\n",
      "11      Male\n",
      "12      Male\n",
      "13    Female\n",
      "14    Female\n",
      "15    Female\n",
      "16    Female\n",
      "17      Male\n",
      "18    Female\n",
      "19      Male\n",
      "20      Male\n",
      "21      Male\n",
      "22    Female\n",
      "23      Male\n",
      "24    Female\n",
      "25      Male\n",
      "26    Female\n",
      "27      Male\n",
      "28    Female\n",
      "29    Female\n",
      "30    Female\n",
      "31      Male\n",
      "32      Male\n",
      "33      Male\n",
      "34    Female\n",
      "35    Female\n",
      "36      Male\n",
      "37    Female\n",
      "38      Male\n",
      "39      Male\n",
      "Name: Gender, dtype: object\n"
     ]
    }
   ],
   "source": [
    "print(data['Gender'])"
   ]
  },
  {
   "cell_type": "markdown",
   "id": "72dee491-abdd-4018-9822-9aaa138775c0",
   "metadata": {},
   "source": [
    "**outputting the mean value of VIQ of all of the female from the gender column**"
   ]
  },
  {
   "cell_type": "code",
   "execution_count": 10,
   "id": "4ae4e948-22e2-494d-9751-4c26928f9b22",
   "metadata": {},
   "outputs": [
    {
     "data": {
      "text/plain": [
       "109.45"
      ]
     },
     "execution_count": 10,
     "metadata": {},
     "output_type": "execute_result"
    }
   ],
   "source": [
    "data[data['Gender'] == 'Female']['VIQ'].mean()"
   ]
  },
  {
   "cell_type": "markdown",
   "id": "b1a40ffe-a5c6-4cc5-933c-deec29ef66aa",
   "metadata": {},
   "source": [
    "**comparing the means of data from categorical variables**"
   ]
  },
  {
   "cell_type": "code",
   "execution_count": 11,
   "id": "942f0d8c-db73-40a3-bb0a-1abaf769316d",
   "metadata": {},
   "outputs": [],
   "source": [
    "groupby_gender = data.groupby('Gender')"
   ]
  },
  {
   "cell_type": "code",
   "execution_count": 12,
   "id": "fea1de9b-fd1d-4e56-bb12-ea7536a681dc",
   "metadata": {},
   "outputs": [
    {
     "name": "stdout",
     "output_type": "stream",
     "text": [
      "('Female', 109.45)\n",
      "('Male', 115.25)\n"
     ]
    }
   ],
   "source": [
    "for gender, value in groupby_gender['VIQ']:\n",
    "    print((gender, value.mean()))"
   ]
  },
  {
   "cell_type": "markdown",
   "id": "ef3c9420-8359-45d2-a9b3-9bbd5aea0c4e",
   "metadata": {},
   "source": [
    "**universal grouping of data**"
   ]
  },
  {
   "cell_type": "code",
   "execution_count": 13,
   "id": "03e8847a-de3d-4f9b-bddd-1de38b2ed0ff",
   "metadata": {},
   "outputs": [
    {
     "data": {
      "text/html": [
       "<div>\n",
       "<style scoped>\n",
       "    .dataframe tbody tr th:only-of-type {\n",
       "        vertical-align: middle;\n",
       "    }\n",
       "\n",
       "    .dataframe tbody tr th {\n",
       "        vertical-align: top;\n",
       "    }\n",
       "\n",
       "    .dataframe thead th {\n",
       "        text-align: right;\n",
       "    }\n",
       "</style>\n",
       "<table border=\"1\" class=\"dataframe\">\n",
       "  <thead>\n",
       "    <tr style=\"text-align: right;\">\n",
       "      <th></th>\n",
       "      <th>Unnamed: 0</th>\n",
       "      <th>FSIQ</th>\n",
       "      <th>VIQ</th>\n",
       "      <th>PIQ</th>\n",
       "      <th>Weight</th>\n",
       "      <th>Height</th>\n",
       "      <th>MRI_Count</th>\n",
       "    </tr>\n",
       "    <tr>\n",
       "      <th>Gender</th>\n",
       "      <th></th>\n",
       "      <th></th>\n",
       "      <th></th>\n",
       "      <th></th>\n",
       "      <th></th>\n",
       "      <th></th>\n",
       "      <th></th>\n",
       "    </tr>\n",
       "  </thead>\n",
       "  <tbody>\n",
       "    <tr>\n",
       "      <th>Female</th>\n",
       "      <td>19.65</td>\n",
       "      <td>111.9</td>\n",
       "      <td>109.45</td>\n",
       "      <td>110.45</td>\n",
       "      <td>137.20</td>\n",
       "      <td>65.765</td>\n",
       "      <td>862654.6</td>\n",
       "    </tr>\n",
       "    <tr>\n",
       "      <th>Male</th>\n",
       "      <td>21.35</td>\n",
       "      <td>115.0</td>\n",
       "      <td>115.25</td>\n",
       "      <td>111.60</td>\n",
       "      <td>164.35</td>\n",
       "      <td>71.510</td>\n",
       "      <td>954855.4</td>\n",
       "    </tr>\n",
       "  </tbody>\n",
       "</table>\n",
       "</div>"
      ],
      "text/plain": [
       "        Unnamed: 0   FSIQ     VIQ     PIQ  Weight  Height  MRI_Count\n",
       "Gender                                                              \n",
       "Female       19.65  111.9  109.45  110.45  137.20  65.765   862654.6\n",
       "Male         21.35  115.0  115.25  111.60  164.35  71.510   954855.4"
      ]
     },
     "execution_count": 13,
     "metadata": {},
     "output_type": "execute_result"
    }
   ],
   "source": [
    "groupby_gender.mean()"
   ]
  },
  {
   "cell_type": "markdown",
   "id": "de2124db-1791-402c-9f50-984e61e3270e",
   "metadata": {},
   "source": [
    "# mean VIQ value for population"
   ]
  },
  {
   "cell_type": "code",
   "execution_count": 14,
   "id": "40069b11-935a-40da-9098-1cc483b5d73a",
   "metadata": {},
   "outputs": [
    {
     "data": {
      "text/plain": [
       "112.35"
      ]
     },
     "execution_count": 14,
     "metadata": {},
     "output_type": "execute_result"
    }
   ],
   "source": [
    "data.VIQ.mean()"
   ]
  },
  {
   "cell_type": "markdown",
   "id": "7eb9ba7c-c3b0-4316-958f-a02a54939ec0",
   "metadata": {},
   "source": [
    "# total number of female and male subjects"
   ]
  },
  {
   "cell_type": "code",
   "execution_count": 15,
   "id": "43ef0cce-b184-43e9-a696-f75ddd4e1017",
   "metadata": {},
   "outputs": [
    {
     "data": {
      "text/html": [
       "<div>\n",
       "<style scoped>\n",
       "    .dataframe tbody tr th:only-of-type {\n",
       "        vertical-align: middle;\n",
       "    }\n",
       "\n",
       "    .dataframe tbody tr th {\n",
       "        vertical-align: top;\n",
       "    }\n",
       "\n",
       "    .dataframe thead th {\n",
       "        text-align: right;\n",
       "    }\n",
       "</style>\n",
       "<table border=\"1\" class=\"dataframe\">\n",
       "  <thead>\n",
       "    <tr style=\"text-align: right;\">\n",
       "      <th></th>\n",
       "      <th>Unnamed: 0</th>\n",
       "      <th>FSIQ</th>\n",
       "      <th>VIQ</th>\n",
       "      <th>PIQ</th>\n",
       "      <th>Weight</th>\n",
       "      <th>Height</th>\n",
       "      <th>MRI_Count</th>\n",
       "    </tr>\n",
       "    <tr>\n",
       "      <th>Gender</th>\n",
       "      <th></th>\n",
       "      <th></th>\n",
       "      <th></th>\n",
       "      <th></th>\n",
       "      <th></th>\n",
       "      <th></th>\n",
       "      <th></th>\n",
       "    </tr>\n",
       "  </thead>\n",
       "  <tbody>\n",
       "    <tr>\n",
       "      <th>Female</th>\n",
       "      <td>20</td>\n",
       "      <td>20</td>\n",
       "      <td>20</td>\n",
       "      <td>20</td>\n",
       "      <td>20</td>\n",
       "      <td>20</td>\n",
       "      <td>20</td>\n",
       "    </tr>\n",
       "    <tr>\n",
       "      <th>Male</th>\n",
       "      <td>20</td>\n",
       "      <td>20</td>\n",
       "      <td>20</td>\n",
       "      <td>20</td>\n",
       "      <td>20</td>\n",
       "      <td>20</td>\n",
       "      <td>20</td>\n",
       "    </tr>\n",
       "  </tbody>\n",
       "</table>\n",
       "</div>"
      ],
      "text/plain": [
       "        Unnamed: 0  FSIQ  VIQ  PIQ  Weight  Height  MRI_Count\n",
       "Gender                                                       \n",
       "Female          20    20   20   20      20      20         20\n",
       "Male            20    20   20   20      20      20         20"
      ]
     },
     "execution_count": 15,
     "metadata": {},
     "output_type": "execute_result"
    }
   ],
   "source": [
    "groupby_gender.count()"
   ]
  },
  {
   "cell_type": "markdown",
   "id": "892448a3-4e28-42d2-81e0-4736be10a16f",
   "metadata": {},
   "source": [
    "# values of average MRI in log"
   ]
  },
  {
   "cell_type": "code",
   "execution_count": 16,
   "id": "60f0e2ff-6f5c-4cb2-9e08-98d8135469f1",
   "metadata": {},
   "outputs": [
    {
     "name": "stdout",
     "output_type": "stream",
     "text": [
      "('Female', 862654.6)\n",
      "('Male', 954855.4)\n"
     ]
    }
   ],
   "source": [
    " for gender, value in groupby_gender['MRI_Count']:\n",
    "    print((gender, value.mean())) "
   ]
  },
  {
   "cell_type": "code",
   "execution_count": 17,
   "id": "0c0dcad7-c3e8-488b-9f79-6877ecac6861",
   "metadata": {},
   "outputs": [],
   "source": [
    "fmMRI=862654.6"
   ]
  },
  {
   "cell_type": "code",
   "execution_count": 18,
   "id": "8986ea8a-c428-406a-893e-9cd95d0eb41c",
   "metadata": {},
   "outputs": [],
   "source": [
    "mlMRI=954855.4\n"
   ]
  },
  {
   "cell_type": "code",
   "execution_count": 19,
   "id": "af32e963-0d29-44b6-b99d-7f6e2e71aad7",
   "metadata": {},
   "outputs": [
    {
     "data": {
      "text/plain": [
       "'8.626546e+05'"
      ]
     },
     "execution_count": 19,
     "metadata": {},
     "output_type": "execute_result"
    }
   ],
   "source": [
    "\"{:e}\".format(862654.6)"
   ]
  },
  {
   "cell_type": "code",
   "execution_count": 20,
   "id": "4692b1f1-2429-4932-a8a5-246d4f5098fd",
   "metadata": {},
   "outputs": [
    {
     "data": {
      "text/plain": [
       "'9.548554e+05'"
      ]
     },
     "execution_count": 20,
     "metadata": {},
     "output_type": "execute_result"
    }
   ],
   "source": [
    "\"{:e}\".format(mlMRI)"
   ]
  },
  {
   "cell_type": "code",
   "execution_count": 21,
   "id": "ec103105-c20a-4634-9dcc-db247b8841c4",
   "metadata": {},
   "outputs": [],
   "source": [
    "from pandas.plotting import scatter_matrix"
   ]
  },
  {
   "cell_type": "markdown",
   "id": "799a5cea-be84-4b2a-a5e4-a1d03202d9d8",
   "metadata": {},
   "source": [
    "# creation of scatter matrcies"
   ]
  },
  {
   "cell_type": "code",
   "execution_count": 22,
   "id": "1fb61b8e-7255-4166-9a57-6b442e595fef",
   "metadata": {},
   "outputs": [
    {
     "data": {
      "text/plain": [
       "array([[<AxesSubplot:xlabel='Weight', ylabel='Weight'>,\n",
       "        <AxesSubplot:xlabel='Height', ylabel='Weight'>,\n",
       "        <AxesSubplot:xlabel='MRI_Count', ylabel='Weight'>],\n",
       "       [<AxesSubplot:xlabel='Weight', ylabel='Height'>,\n",
       "        <AxesSubplot:xlabel='Height', ylabel='Height'>,\n",
       "        <AxesSubplot:xlabel='MRI_Count', ylabel='Height'>],\n",
       "       [<AxesSubplot:xlabel='Weight', ylabel='MRI_Count'>,\n",
       "        <AxesSubplot:xlabel='Height', ylabel='MRI_Count'>,\n",
       "        <AxesSubplot:xlabel='MRI_Count', ylabel='MRI_Count'>]],\n",
       "      dtype=object)"
      ]
     },
     "execution_count": 22,
     "metadata": {},
     "output_type": "execute_result"
    },
    {
     "data": {
      "image/png": "[encoded data removed]",
      "text/plain": [
       "<Figure size 432x288 with 9 Axes>"
      ]
     },
     "metadata": {
      "needs_background": "light"
     },
     "output_type": "display_data"
    }
   ],
   "source": [
    "scatter_matrix(data[['Weight', 'Height', 'MRI_Count']]) "
   ]
  },
  {
   "cell_type": "code",
   "execution_count": 23,
   "id": "c7de1334-d973-44bd-ba7a-fc2a4cfc9977",
   "metadata": {},
   "outputs": [
    {
     "data": {
      "text/plain": [
       "array([[<AxesSubplot:xlabel='PIQ', ylabel='PIQ'>,\n",
       "        <AxesSubplot:xlabel='VIQ', ylabel='PIQ'>,\n",
       "        <AxesSubplot:xlabel='FSIQ', ylabel='PIQ'>],\n",
       "       [<AxesSubplot:xlabel='PIQ', ylabel='VIQ'>,\n",
       "        <AxesSubplot:xlabel='VIQ', ylabel='VIQ'>,\n",
       "        <AxesSubplot:xlabel='FSIQ', ylabel='VIQ'>],\n",
       "       [<AxesSubplot:xlabel='PIQ', ylabel='FSIQ'>,\n",
       "        <AxesSubplot:xlabel='VIQ', ylabel='FSIQ'>,\n",
       "        <AxesSubplot:xlabel='FSIQ', ylabel='FSIQ'>]], dtype=object)"
      ]
     },
     "execution_count": 23,
     "metadata": {},
     "output_type": "execute_result"
    },
    {
     "data": {
      "image/png": "[encoded data removed]",
      "text/plain": [
       "<Figure size 432x288 with 9 Axes>"
      ]
     },
     "metadata": {
      "needs_background": "light"
     },
     "output_type": "display_data"
    }
   ],
   "source": [
    "scatter_matrix(data[['PIQ', 'VIQ', 'FSIQ']])"
   ]
  },
  {
   "cell_type": "markdown",
   "id": "a3164f3d-04ee-45fc-bb10-89826cc284a3",
   "metadata": {},
   "source": [
    "# comparative boxplot"
   ]
  },
  {
   "cell_type": "code",
   "execution_count": 24,
   "id": "e4b005d2-5bab-4528-a7bb-b584e9febd46",
   "metadata": {},
   "outputs": [
    {
     "data": {
      "text/plain": [
       "Female         AxesSubplot(0.1,0.15;0.363636x0.75)\n",
       "Male      AxesSubplot(0.536364,0.15;0.363636x0.75)\n",
       "dtype: object"
      ]
     },
     "execution_count": 24,
     "metadata": {},
     "output_type": "execute_result"
    },
    {
     "data": {
      "image/png": "[encoded data removed]",
      "text/plain": [
       "<Figure size 432x288 with 2 Axes>"
      ]
     },
     "metadata": {
      "needs_background": "light"
     },
     "output_type": "display_data"
    }
   ],
   "source": [
    "groupby_gender.boxplot(column=['FSIQ', 'VIQ', 'PIQ'])"
   ]
  },
  {
   "cell_type": "markdown",
   "id": "ea6895c1-3730-4e15-a710-41592aa9c719",
   "metadata": {},
   "source": [
    "# Comparative Male and Female scatter matricies"
   ]
  },
  {
   "cell_type": "code",
   "execution_count": 25,
   "id": "56685e86-a531-4d18-afcf-cd88323acf59",
   "metadata": {},
   "outputs": [
    {
     "data": {
      "text/plain": [
       "array([[<AxesSubplot:xlabel='VIQ', ylabel='VIQ'>,\n",
       "        <AxesSubplot:xlabel='MRI_Count', ylabel='VIQ'>,\n",
       "        <AxesSubplot:xlabel='Height', ylabel='VIQ'>],\n",
       "       [<AxesSubplot:xlabel='VIQ', ylabel='MRI_Count'>,\n",
       "        <AxesSubplot:xlabel='MRI_Count', ylabel='MRI_Count'>,\n",
       "        <AxesSubplot:xlabel='Height', ylabel='MRI_Count'>],\n",
       "       [<AxesSubplot:xlabel='VIQ', ylabel='Height'>,\n",
       "        <AxesSubplot:xlabel='MRI_Count', ylabel='Height'>,\n",
       "        <AxesSubplot:xlabel='Height', ylabel='Height'>]], dtype=object)"
      ]
     },
     "execution_count": 25,
     "metadata": {},
     "output_type": "execute_result"
    },
    {
     "data": {
      "image/png": "[encoded data removed]",
      "text/plain": [
       "<Figure size 432x288 with 9 Axes>"
      ]
     },
     "metadata": {
      "needs_background": "light"
     },
     "output_type": "display_data"
    }
   ],
   "source": [
    "scatter_matrix(data[['VIQ', 'MRI_Count', 'Height']],\n",
    "                        c=(data['Gender'] == 'Female'), marker='o',\n",
    "                        alpha=1, cmap='winter')\n",
    "\n",
    "\n"
   ]
  },
  {
   "cell_type": "markdown",
   "id": "dad23358-614c-4900-81ea-6b914914754b",
   "metadata": {},
   "source": [
    "**assign male and female VIQ datavariable**"
   ]
  },
  {
   "cell_type": "code",
   "execution_count": 26,
   "id": "c2c0df9f-ec1d-4026-8b76-1080a8a75376",
   "metadata": {},
   "outputs": [],
   "source": [
    "female_viq = data[data['Gender'] == 'Female']['VIQ']"
   ]
  },
  {
   "cell_type": "code",
   "execution_count": 27,
   "id": "56e0aec3-4e13-4081-95bf-361b519c0dca",
   "metadata": {},
   "outputs": [],
   "source": [
    "male_viq = data[data['Gender'] == 'Male']['VIQ']"
   ]
  },
  {
   "cell_type": "markdown",
   "id": "8daebad5-eac0-4a90-a463-06855eaf714f",
   "metadata": {},
   "source": [
    "**1-sample t-test**"
   ]
  },
  {
   "cell_type": "code",
   "execution_count": 28,
   "id": "0805f897-5f6b-4d5b-b0e7-bf80a07b45ff",
   "metadata": {},
   "outputs": [
    {
     "data": {
      "text/plain": [
       "Ttest_indResult(statistic=-7.726161723275011e-01, pvalue=0.44452876778583217)"
      ]
     },
     "execution_count": 28,
     "metadata": {},
     "output_type": "execute_result"
    }
   ],
   "source": [
    "stats.ttest_ind(female_viq, male_viq)"
   ]
  },
  {
   "cell_type": "markdown",
   "id": "d1aaad42-d95a-43df-a142-c5259c37b363",
   "metadata": {},
   "source": [
    "**2-sample t-test: testing for difference across populations**"
   ]
  },
  {
   "cell_type": "code",
   "execution_count": 29,
   "id": "a5373abf-1c76-4709-ad28-2b4805297e15",
   "metadata": {},
   "outputs": [
    {
     "data": {
      "text/plain": [
       "Ttest_indResult(statistic=0.465637596380964, pvalue=0.6427725009414841)"
      ]
     },
     "execution_count": 29,
     "metadata": {},
     "output_type": "execute_result"
    }
   ],
   "source": [
    "stats.ttest_ind(data['FSIQ'], data['PIQ'])   "
   ]
  },
  {
   "cell_type": "markdown",
   "id": "0b6aaaaa-c3ea-4a8a-8b99-9ca1c20a7a93",
   "metadata": {},
   "source": [
    "**two sample t-test**"
   ]
  },
  {
   "cell_type": "code",
   "execution_count": 30,
   "id": "52fd4dac-978a-45b1-8ad0-441ce0aa16b4",
   "metadata": {},
   "outputs": [
    {
     "data": {
      "text/plain": [
       "Ttest_relResult(statistic=1.7842019405859857, pvalue=0.08217263818364236)"
      ]
     },
     "execution_count": 30,
     "metadata": {},
     "output_type": "execute_result"
    }
   ],
   "source": [
    "stats.ttest_rel(data['FSIQ'], data['PIQ'])"
   ]
  },
  {
   "cell_type": "markdown",
   "id": "4b3e51f6-ed5b-49bf-93c1-d7356f1c5ba1",
   "metadata": {},
   "source": [
    "**paired t-test**"
   ]
  },
  {
   "cell_type": "code",
   "execution_count": 31,
   "id": "de9496ea-7235-4ba8-b181-cba12ea7269a",
   "metadata": {},
   "outputs": [
    {
     "data": {
      "text/plain": [
       "Ttest_1sampResult(statistic=1.7842019405859857, pvalue=0.08217263818364236)"
      ]
     },
     "execution_count": 31,
     "metadata": {},
     "output_type": "execute_result"
    }
   ],
   "source": [
    "stats.ttest_1samp(data['FSIQ'] - data['PIQ'], 0)   "
   ]
  },
  {
   "cell_type": "markdown",
   "id": "daf7d5f4-9d92-491e-bed1-e3f2a1eb3d4b",
   "metadata": {},
   "source": [
    "**nonparametric t-test**"
   ]
  },
  {
   "cell_type": "code",
   "execution_count": 32,
   "id": "67c1ff52-1385-4887-861c-cfc0be2338c7",
   "metadata": {},
   "outputs": [
    {
     "data": {
      "text/plain": [
       "WilcoxonResult(statistic=274.5, pvalue=0.10659492713506856)"
      ]
     },
     "execution_count": 32,
     "metadata": {},
     "output_type": "execute_result"
    }
   ],
   "source": [
    "stats.wilcoxon(data['FSIQ'], data['PIQ'])   \n"
   ]
  },
  {
   "cell_type": "markdown",
   "id": "b064b94b-76ec-4c0e-9198-75d2a20d1e21",
   "metadata": {},
   "source": [
    "**Assign variables for male and female weight** "
   ]
  },
  {
   "cell_type": "code",
   "execution_count": 33,
   "id": "9573dd53-f561-48cc-9414-5e6204a04f96",
   "metadata": {},
   "outputs": [],
   "source": [
    "female_wt = data[data['Gender'] == 'Female']['Weight']"
   ]
  },
  {
   "cell_type": "code",
   "execution_count": 34,
   "id": "c6e6d168-76e2-46da-860c-7c18b8a1351f",
   "metadata": {},
   "outputs": [],
   "source": [
    "male_wt = data[data['Gender'] == 'Male']['Weight']"
   ]
  },
  {
   "cell_type": "code",
   "execution_count": 35,
   "id": "5789df1a-efdd-4c39-bbe4-15524aef9c71",
   "metadata": {},
   "outputs": [
    {
     "data": {
      "text/plain": [
       "Ttest_1sampResult(statistic=41.41609420115458, pvalue=7.482289053440119e-34)"
      ]
     },
     "execution_count": 35,
     "metadata": {},
     "output_type": "execute_result"
    }
   ],
   "source": [
    "stats.ttest_1samp(data['Weight'], 0)"
   ]
  },
  {
   "cell_type": "markdown",
   "id": "8c9dd8ba-c554-4698-8d28-6cc867cd4a58",
   "metadata": {},
   "source": [
    "**test the differecne of weight in male and females**"
   ]
  },
  {
   "cell_type": "code",
   "execution_count": 36,
   "id": "bbfe5d7e-dddf-456a-89b0-39d38157f63c",
   "metadata": {},
   "outputs": [
    {
     "data": {
      "text/plain": [
       "Ttest_indResult(statistic=4.588540768019845, pvalue=4.757239652605922e-05)"
      ]
     },
     "execution_count": 36,
     "metadata": {},
     "output_type": "execute_result"
    }
   ],
   "source": [
    "stats.ttest_ind(male_wt, female_wt)"
   ]
  },
  {
   "cell_type": "markdown",
   "id": "1438d5c1-a927-4ae4-924f-fb26dbaf56bb",
   "metadata": {},
   "source": [
    "**test difference between male and femal VIQ**"
   ]
  },
  {
   "cell_type": "code",
   "execution_count": 37,
   "id": "84c8e3ab-a885-45f9-9a34-ca20d0631fbd",
   "metadata": {},
   "outputs": [
    {
     "data": {
      "text/plain": [
       "MannwhitneyuResult(statistic=164.5, pvalue=0.3422886868727315)"
      ]
     },
     "execution_count": 37,
     "metadata": {},
     "output_type": "execute_result"
    }
   ],
   "source": [
    "stats.mannwhitneyu(female_viq, male_viq)"
   ]
  },
  {
   "cell_type": "code",
   "execution_count": 38,
   "id": "9742ef42-97d3-499a-ad2f-3d37f0da996e",
   "metadata": {},
   "outputs": [],
   "source": [
    "x = np.linspace(-5, 5, 20)"
   ]
  },
  {
   "cell_type": "code",
   "execution_count": 39,
   "id": "9294e665-cf48-4108-b510-8466ab457a1c",
   "metadata": {},
   "outputs": [],
   "source": [
    "np.random.seed(1)"
   ]
  },
  {
   "cell_type": "code",
   "execution_count": 40,
   "id": "099886ed-190f-446b-80b1-a9e4797be661",
   "metadata": {},
   "outputs": [],
   "source": [
    "y = -5 + 3*x + 4 * np.random.normal(size=x.shape)"
   ]
  },
  {
   "cell_type": "code",
   "execution_count": 41,
   "id": "2bef934e-3b38-45b5-a553-dd9be93bbc46",
   "metadata": {},
   "outputs": [],
   "source": [
    "data = pd.DataFrame({'x': x, 'y': y})"
   ]
  },
  {
   "cell_type": "code",
   "execution_count": 42,
   "id": "992c40ce-f170-413f-9a1b-5ff63f8e4fcf",
   "metadata": {},
   "outputs": [],
   "source": [
    "model = ols(\"y ~ x\", data).fit()"
   ]
  },
  {
   "cell_type": "code",
   "execution_count": 43,
   "id": "99d3e6e0-9ea0-40af-b57a-324da24e35c5",
   "metadata": {},
   "outputs": [
    {
     "name": "stdout",
     "output_type": "stream",
     "text": [
      "                            OLS Regression Results                            \n",
      "==============================================================================\n",
      "Dep. Variable:                      y   R-squared:                       0.804\n",
      "Model:                            OLS   Adj. R-squared:                  0.794\n",
      "Method:                 Least Squares   F-statistic:                     74.03\n",
      "Date:                Fri, 12 Jul 2024   Prob (F-statistic):           8.56e-08\n",
      "Time:                        21:22:45   Log-Likelihood:                -57.988\n",
      "No. Observations:                  20   AIC:                             120.0\n",
      "Df Residuals:                      18   BIC:                             122.0\n",
      "Df Model:                           1                                         \n",
      "Covariance Type:            nonrobust                                         \n",
      "==============================================================================\n",
      "                 coef    std err          t      P>|t|      [0.025      0.975]\n",
      "------------------------------------------------------------------------------\n",
      "Intercept     -5.5335      1.036     -5.342      0.000      -7.710      -3.357\n",
      "x              2.9369      0.341      8.604      0.000       2.220       3.654\n",
      "==============================================================================\n",
      "Omnibus:                        0.100   Durbin-Watson:                   2.956\n",
      "Prob(Omnibus):                  0.951   Jarque-Bera (JB):                0.322\n",
      "Skew:                          -0.058   Prob(JB):                        0.851\n",
      "Kurtosis:                       2.390   Cond. No.                         3.03\n",
      "==============================================================================\n",
      "\n",
      "Notes:\n",
      "[1] Standard Errors assume that the covariance matrix of the errors is correctly specified.\n"
     ]
    }
   ],
   "source": [
    "print(model.summary())"
   ]
  },
  {
   "cell_type": "markdown",
   "id": "8efbca29-e069-49ec-a87d-e0caf061605b",
   "metadata": {},
   "source": [
    "**extract parameters**"
   ]
  },
  {
   "cell_type": "code",
   "execution_count": 44,
   "id": "8237628d-4304-4c88-92ba-8de790c0e326",
   "metadata": {},
   "outputs": [
    {
     "name": "stdout",
     "output_type": "stream",
     "text": [
      "[-20.21790012 -18.67216943 -17.12643874 -15.58070805 -14.03497735\n",
      " -12.48924666 -10.94351597  -9.39778528  -7.85205458  -6.30632389\n",
      "  -4.7605932   -3.21486251  -1.66913181  -0.12340112   1.42232957\n",
      "   2.96806026   4.51379095   6.05952165   7.60525234   9.15098303]\n"
     ]
    }
   ],
   "source": [
    "print(model.predict())"
   ]
  },
  {
   "cell_type": "code",
   "execution_count": 45,
   "id": "0ce8a381-9a29-4d1d-b16e-a5b0d733686e",
   "metadata": {},
   "outputs": [
    {
     "name": "stdout",
     "output_type": "stream",
     "text": [
      "              Intercept             x\n",
      "Intercept  1.073137e+00  2.517942e-17\n",
      "x          2.517942e-17  1.165120e-01\n"
     ]
    }
   ],
   "source": [
    "print(model.cov_params())"
   ]
  },
  {
   "cell_type": "markdown",
   "id": "192d20a8-80d4-4218-a8a7-e3cf8b9dbc79",
   "metadata": {},
   "source": [
    "# comparison between IQ of male and female using a linear model"
   ]
  },
  {
   "cell_type": "code",
   "execution_count": 59,
   "id": "ea2ee5d8-d798-4354-aefb-6b1789388d1b",
   "metadata": {},
   "outputs": [],
   "source": [
    "data = pd.read_csv('brain_size.csv', sep=';', na_values=\".\")"
   ]
  },
  {
   "cell_type": "markdown",
   "id": "6a7969f6-e9ab-487a-a373-a5bf1decbda7",
   "metadata": {},
   "source": [
    "**ols=ordinary least squares**"
   ]
  },
  {
   "cell_type": "code",
   "execution_count": 47,
   "id": "99229693-cf0d-4088-a760-df2720a120cb",
   "metadata": {},
   "outputs": [],
   "source": [
    "model = ols(\"VIQ ~ Gender + 1\", data).fit()"
   ]
  },
  {
   "cell_type": "code",
   "execution_count": 48,
   "id": "0ab23305-cca9-43fe-91d8-c23d8a5fa0fa",
   "metadata": {},
   "outputs": [
    {
     "name": "stdout",
     "output_type": "stream",
     "text": [
      "                            OLS Regression Results                            \n",
      "==============================================================================\n",
      "Dep. Variable:                    VIQ   R-squared:                       0.015\n",
      "Model:                            OLS   Adj. R-squared:                 -0.010\n",
      "Method:                 Least Squares   F-statistic:                    0.5969\n",
      "Date:                Fri, 12 Jul 2024   Prob (F-statistic):              0.445\n",
      "Time:                        21:22:45   Log-Likelihood:                -182.42\n",
      "No. Observations:                  40   AIC:                             368.8\n",
      "Df Residuals:                      38   BIC:                             372.2\n",
      "Df Model:                           1                                         \n",
      "Covariance Type:            nonrobust                                         \n",
      "==================================================================================\n",
      "                     coef    std err          t      P>|t|      [0.025      0.975]\n",
      "----------------------------------------------------------------------------------\n",
      "Intercept        109.4500      5.308     20.619      0.000      98.704     120.196\n",
      "Gender[T.Male]     5.8000      7.507      0.773      0.445      -9.397      20.997\n",
      "==============================================================================\n",
      "Omnibus:                       26.188   Durbin-Watson:                   1.709\n",
      "Prob(Omnibus):                  0.000   Jarque-Bera (JB):                3.703\n",
      "Skew:                           0.010   Prob(JB):                        0.157\n",
      "Kurtosis:                       1.510   Cond. No.                         2.62\n",
      "==============================================================================\n",
      "\n",
      "Notes:\n",
      "[1] Standard Errors assume that the covariance matrix of the errors is correctly specified.\n"
     ]
    }
   ],
   "source": [
    "print(model.summary()) "
   ]
  },
  {
   "cell_type": "markdown",
   "id": "447699d1-4d8a-463b-87cb-a676dd676eae",
   "metadata": {},
   "source": [
    "# testing if the VIQ of male and female are different after removing the effect of brain size, height and weight."
   ]
  },
  {
   "cell_type": "code",
   "execution_count": 62,
   "id": "7930970f-15e0-4024-8ef4-6b0c1ac5b598",
   "metadata": {},
   "outputs": [],
   "source": [
    "model = ols('VIQ ~ C(Gender)', data).fit()"
   ]
  },
  {
   "cell_type": "code",
   "execution_count": 66,
   "id": "f12fc1f0-f520-4658-bed8-77bcb9d35525",
   "metadata": {},
   "outputs": [
    {
     "name": "stdout",
     "output_type": "stream",
     "text": [
      "                            OLS Regression Results                            \n",
      "==============================================================================\n",
      "Dep. Variable:                    VIQ   R-squared:                       0.263\n",
      "Model:                            OLS   Adj. R-squared:                  0.202\n",
      "Method:                 Least Squares   F-statistic:                     4.289\n",
      "Date:                Fri, 12 Jul 2024   Prob (F-statistic):             0.0110\n",
      "Time:                        21:44:50   Log-Likelihood:                -176.62\n",
      "No. Observations:                  40   AIC:                             361.2\n",
      "Df Residuals:                      36   BIC:                             368.0\n",
      "Df Model:                           3                                         \n",
      "Covariance Type:            nonrobust                                         \n",
      "==================================================================================\n",
      "                     coef    std err          t      P>|t|      [0.025      0.975]\n",
      "----------------------------------------------------------------------------------\n",
      "Intercept        166.3068     88.390      1.882      0.068     -12.957     345.571\n",
      "Gender[T.Male]     7.7382     10.569      0.732      0.469     -13.696      29.173\n",
      "MRI_Count          0.0002   6.28e-05      2.864      0.007    5.25e-05       0.000\n",
      "Height            -3.2233      1.258     -2.562      0.015      -5.774      -0.672\n",
      "==============================================================================\n",
      "Omnibus:                        6.877   Durbin-Watson:                   2.025\n",
      "Prob(Omnibus):                  0.032   Jarque-Bera (JB):                2.227\n",
      "Skew:                           0.070   Prob(JB):                        0.328\n",
      "Kurtosis:                       1.853   Cond. No.                     2.43e+07\n",
      "==============================================================================\n",
      "\n",
      "Notes:\n",
      "[1] Standard Errors assume that the covariance matrix of the errors is correctly specified.\n",
      "[2] The condition number is large, 2.43e+07. This might indicate that there are\n",
      "strong multicollinearity or other numerical problems.\n"
     ]
    }
   ],
   "source": [
    "model = ols('VIQ ~ Gender + MRI_Count + Height', data).fit()\n",
    "print(model.summary())"
   ]
  },
  {
   "cell_type": "code",
   "execution_count": 67,
   "id": "4978a6f9-9c8a-4b38-b49c-75462b8866fc",
   "metadata": {},
   "outputs": [
    {
     "name": "stdout",
     "output_type": "stream",
     "text": [
      "<F test: F=0.5360785393375432, p=0.4688026391168201, df_denom=36, df_num=1>\n"
     ]
    }
   ],
   "source": [
    "print(model.f_test([0, 1, 0, 0]))"
   ]
  },
  {
   "cell_type": "code",
   "execution_count": 50,
   "id": "0a4a1ab4-4c48-497b-84eb-fc34f11ae766",
   "metadata": {},
   "outputs": [
    {
     "name": "stdout",
     "output_type": "stream",
     "text": [
      "     iq  type\n",
      "0   133  fsiq\n",
      "1   140  fsiq\n",
      "2   139  fsiq\n",
      "3   133  fsiq\n",
      "4   137  fsiq\n",
      "..  ...   ...\n",
      "35  128   piq\n",
      "36  124   piq\n",
      "37   94   piq\n",
      "38   74   piq\n",
      "39   89   piq\n",
      "\n",
      "[80 rows x 2 columns]\n"
     ]
    }
   ],
   "source": [
    "data_fisq = pd.DataFrame({'iq': data['FSIQ'], 'type': 'fsiq'})\n",
    "data_piq = pd.DataFrame({'iq': data['PIQ'], 'type': 'piq'})\n",
    "data_long = pd.concat((data_fisq, data_piq))\n",
    "print(data_long)  "
   ]
  },
  {
   "cell_type": "code",
   "execution_count": 51,
   "id": "fd30fd51-7609-40eb-bd9d-b0811e910a58",
   "metadata": {},
   "outputs": [
    {
     "data": {
      "text/plain": [
       "Ttest_indResult(statistic=0.465637596380964, pvalue=0.6427725009414841)"
      ]
     },
     "execution_count": 51,
     "metadata": {},
     "output_type": "execute_result"
    }
   ],
   "source": [
    "stats.ttest_ind(data['FSIQ'], data['PIQ'])  "
   ]
  },
  {
   "cell_type": "code",
   "execution_count": 55,
   "id": "84d8975f-6acf-44b8-9705-cebf148e2761",
   "metadata": {},
   "outputs": [
    {
     "name": "stdout",
     "output_type": "stream",
     "text": [
      "                            OLS Regression Results                            \n",
      "==============================================================================\n",
      "Dep. Variable:            sepal_width   R-squared:                       0.478\n",
      "Model:                            OLS   Adj. R-squared:                  0.468\n",
      "Method:                 Least Squares   F-statistic:                     44.63\n",
      "Date:                Fri, 12 Jul 2024   Prob (F-statistic):           1.58e-20\n",
      "Time:                        21:29:09   Log-Likelihood:                -38.185\n",
      "No. Observations:                 150   AIC:                             84.37\n",
      "Df Residuals:                     146   BIC:                             96.41\n",
      "Df Model:                           3                                         \n",
      "Covariance Type:            nonrobust                                         \n",
      "======================================================================================\n",
      "                         coef    std err          t      P>|t|      [0.025      0.975]\n",
      "--------------------------------------------------------------------------------------\n",
      "Intercept              2.9813      0.099     29.989      0.000       2.785       3.178\n",
      "name[T.versicolor]    -1.4821      0.181     -8.190      0.000      -1.840      -1.124\n",
      "name[T.virginica]     -1.6635      0.256     -6.502      0.000      -2.169      -1.158\n",
      "petal_length           0.2983      0.061      4.920      0.000       0.178       0.418\n",
      "==============================================================================\n",
      "Omnibus:                        2.868   Durbin-Watson:                   1.753\n",
      "Prob(Omnibus):                  0.238   Jarque-Bera (JB):                2.885\n",
      "Skew:                          -0.082   Prob(JB):                        0.236\n",
      "Kurtosis:                       3.659   Cond. No.                         54.0\n",
      "==============================================================================\n",
      "\n",
      "Notes:\n",
      "[1] Standard Errors assume that the covariance matrix of the errors is correctly specified.\n"
     ]
    }
   ],
   "source": [
    "data = pd.read_csv('iris.csv')\n",
    "model = ols('sepal_width ~ name + petal_length', data).fit()\n",
    "print(model.summary()) "
   ]
  },
  {
   "cell_type": "code",
   "execution_count": 57,
   "id": "b570b750-11cd-4985-ba01-84c68a6f1d72",
   "metadata": {},
   "outputs": [
    {
     "name": "stdout",
     "output_type": "stream",
     "text": [
      "<F test: F=3.2453353465742816, p=0.07369058781700653, df_denom=146, df_num=1>\n"
     ]
    }
   ],
   "source": [
    " print(model.f_test([0, 1, -1, 0])) "
   ]
  },
  {
   "cell_type": "code",
   "execution_count": null,
   "id": "085f8d52-5719-4367-8f40-ecb6d514a429",
   "metadata": {},
   "outputs": [],
   "source": []
  }
 ],
 "metadata": {
  "kernelspec": {
   "display_name": "Python 3.9 (Conda 2022.05) [python/3.9-2022.05]",
   "language": "python",
   "name": "python39_202205"
  },
  "language_info": {
   "codemirror_mode": {
    "name": "ipython",
    "version": 3
   },
   "file_extension": ".py",
   "mimetype": "text/x-python",
   "name": "python",
   "nbconvert_exporter": "python",
   "pygments_lexer": "ipython3",
   "version": "3.9.12"
  }
 },
 "nbformat": 4,
 "nbformat_minor": 5
}
